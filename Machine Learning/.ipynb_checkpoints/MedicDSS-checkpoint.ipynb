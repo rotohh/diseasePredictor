{
 "cells": [
  {
   "cell_type": "markdown",
   "metadata": {},
   "source": [
    "# Medical Disease Diagnostic Project \n",
    "This project is a disease diagnostic for assisting medical doctor.\n",
    "In this project, I used the training Heart Disease data set from the UCI Machine Learning Repository. The data was collected from several locations (Cleveland Clinic Foundation, Hungarian Institute of Cardiology, V.A. Medical Center, University Hospital Zurich).\n",
    "\n",
    "We are going to use different classification model on the heart disease data from from the Cleveland Clinic (processed.cleveland.data) and select one with the best accuracy. The training data set used in this experiment consist of the following features\n",
    "\n",
    "\n",
    "14 features used:\n",
    "1. #3 (age) : age in years \n",
    "2. #4 (sex) : sex (1 = male; 0 = female) \n",
    "3. #9 (cp) : chest pain type\n",
    "    -- Value 1: typical angina\n",
    "    -- Value 2: atypical angina\n",
    "    -- Value 3: non-anginal pain\n",
    "    -- Value 4: asymptomatic \n",
    "4. #10 (trestbps) : resting blood pressure (in mm Hg on admission to the hospital) \n",
    "5. #12 (chol) : serum cholestoral in mg/dl \n",
    "6. #16 (fbs) : (fasting blood sugar > 120 mg/dl) (1 = true; 0 = false) \n",
    "7. #19 (restecg) : resting electrocardiographic results\n",
    "    -- Value 0: normal\n",
    "    -- Value 1: having ST-T wave abnormality (T wave inversions and/or ST elevation or depression of > 0.05 mV)\n",
    "    -- Value 2: showing probable or definite left ventricular hypertrophy by Estes' criteria \n",
    "8. #32 (thalach) : maximum heart rate achieved \n",
    "9. #38 (exang) : exercise induced angina (1 = yes; 0 = no) \n",
    "10. #40 (oldpeak) : ST depression induced by exercise relative to rest \n",
    "11. #41 (slope) : the slope of the peak exercise ST segment\n",
    "    -- Value 1: upsloping\n",
    "    -- Value 2: flat\n",
    "    -- Value 3: downsloping \n",
    "12. #44 (ca) : number of major vessels (0-3) colored by flourosopy \n",
    "13. #51 (thal) : 3 = normal; 6 = fixed defect; 7 = reversable defect \n",
    "14. #58 (outcome) (the predicted attribute) : diagnosis of heart disease (angiographic disease status)\n",
    "    -- Value 0: < 50% diameter narrowing\n",
    "    -- Value 1: > 50% diameter narrowing \n",
    "\n",
    "These features are subset of the 76 attributes.\n",
    "The raw data contains 76 attributes, but all published experiments prefer to using a subset of 14 of them. In particular, the Cleveland database is the only one that has been used by ML researchers to this date."
   ]
  },
  {
   "cell_type": "code",
   "execution_count": null,
   "metadata": {
    "collapsed": false
   },
   "outputs": [],
   "source": [
    "# Import libraries necessary for this project\n",
    "import numpy as np\n",
    "import pandas as pd\n",
    "from IPython.display import display # Allows the use of display() for DataFrames\n",
    "from sklearn.model_selection import train_test_split\n",
    "import matplotlib.pyplot as plt\n",
    "from time import time\n",
    "from sklearn.metrics import f1_score\n",
    "from IPython.display import display\n",
    "import matplotlib\n",
    "\n",
    "# Pretty display for notebooks\n",
    "%matplotlib inline\n",
    "matplotlib.style.use('ggplot')\n",
    "\n",
    "# Load the dataset\n",
    "in_file = 'cleveland.data'\n",
    "df = pd.read_csv(in_file)\n",
    "full_data = pd.DataFrame(df)\n"
   ]
  },
  {
   "cell_type": "code",
   "execution_count": null,
   "metadata": {
    "collapsed": false
   },
   "outputs": [],
   "source": [
    "#Let view our Data, to see what we have got\n",
    "display(full_data.head())\n",
    "\n",
    "# Display statistical information on the data\n",
    "display(full_data[['age','sex','cp','trestbps','chol','fbs','restecg']].describe())\n",
    "display(full_data[['thalach','exang','oldpeak','slope']].describe())"
   ]
  },
  {
   "cell_type": "code",
   "execution_count": 3,
   "metadata": {
    "collapsed": false
   },
   "outputs": [
    {
     "data": {
      "text/plain": [
       "age         float64\n",
       "sex         float64\n",
       "cp          float64\n",
       "trestbps    float64\n",
       "chol        float64\n",
       "fbs         float64\n",
       "restecg     float64\n",
       "thalach     float64\n",
       "exang       float64\n",
       "oldpeak     float64\n",
       "slope       float64\n",
       "ca           object\n",
       "thal         object\n",
       "outcome       int64\n",
       "dtype: object"
      ]
     },
     "execution_count": 3,
     "metadata": {},
     "output_type": "execute_result"
    }
   ],
   "source": [
    "full_data.dtypes"
   ]
  },
  {
   "cell_type": "markdown",
   "metadata": {},
   "source": [
    "# Data Preprocessing\n",
    "Let reformat our data for modelling, training and testing."
   ]
  },
  {
   "cell_type": "code",
   "execution_count": 4,
   "metadata": {
    "collapsed": false
   },
   "outputs": [
    {
     "data": {
      "text/plain": [
       "age         float64\n",
       "sex         float64\n",
       "cp          float64\n",
       "trestbps    float64\n",
       "chol        float64\n",
       "fbs         float64\n",
       "restecg     float64\n",
       "thalach     float64\n",
       "exang       float64\n",
       "oldpeak     float64\n",
       "slope       float64\n",
       "ca          float64\n",
       "thal        float64\n",
       "outcome       int64\n",
       "dtype: object"
      ]
     },
     "execution_count": 4,
     "metadata": {},
     "output_type": "execute_result"
    }
   ],
   "source": [
    "# we need to convert thal and ca to float for processing\n",
    "full_data['ca'] = pd.to_numeric(full_data['ca'], errors='coerce')\n",
    "full_data['thal'] = pd.to_numeric(full_data['thal'], errors='coerce')\n",
    "\n",
    "# Let comfirm that our data type has been change\n",
    "full_data.dtypes"
   ]
  },
  {
   "cell_type": "code",
   "execution_count": 5,
   "metadata": {
    "collapsed": false
   },
   "outputs": [
    {
     "data": {
      "text/html": [
       "<div>\n",
       "<table border=\"1\" class=\"dataframe\">\n",
       "  <thead>\n",
       "    <tr style=\"text-align: right;\">\n",
       "      <th></th>\n",
       "      <th>age</th>\n",
       "      <th>sex</th>\n",
       "      <th>cp</th>\n",
       "      <th>trestbps</th>\n",
       "      <th>chol</th>\n",
       "      <th>fbs</th>\n",
       "      <th>restecg</th>\n",
       "      <th>thalach</th>\n",
       "      <th>exang</th>\n",
       "      <th>oldpeak</th>\n",
       "      <th>slope</th>\n",
       "      <th>ca</th>\n",
       "      <th>thal</th>\n",
       "      <th>outcome</th>\n",
       "    </tr>\n",
       "  </thead>\n",
       "  <tbody>\n",
       "    <tr>\n",
       "      <th>166</th>\n",
       "      <td>52.0</td>\n",
       "      <td>1.0</td>\n",
       "      <td>3.0</td>\n",
       "      <td>138.0</td>\n",
       "      <td>223.0</td>\n",
       "      <td>0.0</td>\n",
       "      <td>0.0</td>\n",
       "      <td>169.0</td>\n",
       "      <td>0.0</td>\n",
       "      <td>0.0</td>\n",
       "      <td>1.0</td>\n",
       "      <td>NaN</td>\n",
       "      <td>3.0</td>\n",
       "      <td>0</td>\n",
       "    </tr>\n",
       "    <tr>\n",
       "      <th>192</th>\n",
       "      <td>43.0</td>\n",
       "      <td>1.0</td>\n",
       "      <td>4.0</td>\n",
       "      <td>132.0</td>\n",
       "      <td>247.0</td>\n",
       "      <td>1.0</td>\n",
       "      <td>2.0</td>\n",
       "      <td>143.0</td>\n",
       "      <td>1.0</td>\n",
       "      <td>0.1</td>\n",
       "      <td>2.0</td>\n",
       "      <td>NaN</td>\n",
       "      <td>7.0</td>\n",
       "      <td>1</td>\n",
       "    </tr>\n",
       "    <tr>\n",
       "      <th>287</th>\n",
       "      <td>58.0</td>\n",
       "      <td>1.0</td>\n",
       "      <td>2.0</td>\n",
       "      <td>125.0</td>\n",
       "      <td>220.0</td>\n",
       "      <td>0.0</td>\n",
       "      <td>0.0</td>\n",
       "      <td>144.0</td>\n",
       "      <td>0.0</td>\n",
       "      <td>0.4</td>\n",
       "      <td>2.0</td>\n",
       "      <td>NaN</td>\n",
       "      <td>7.0</td>\n",
       "      <td>0</td>\n",
       "    </tr>\n",
       "    <tr>\n",
       "      <th>302</th>\n",
       "      <td>38.0</td>\n",
       "      <td>1.0</td>\n",
       "      <td>3.0</td>\n",
       "      <td>138.0</td>\n",
       "      <td>175.0</td>\n",
       "      <td>0.0</td>\n",
       "      <td>0.0</td>\n",
       "      <td>173.0</td>\n",
       "      <td>0.0</td>\n",
       "      <td>0.0</td>\n",
       "      <td>1.0</td>\n",
       "      <td>NaN</td>\n",
       "      <td>3.0</td>\n",
       "      <td>0</td>\n",
       "    </tr>\n",
       "  </tbody>\n",
       "</table>\n",
       "</div>"
      ],
      "text/plain": [
       "      age  sex   cp  trestbps   chol  fbs  restecg  thalach  exang  oldpeak  \\\n",
       "166  52.0  1.0  3.0     138.0  223.0  0.0      0.0    169.0    0.0      0.0   \n",
       "192  43.0  1.0  4.0     132.0  247.0  1.0      2.0    143.0    1.0      0.1   \n",
       "287  58.0  1.0  2.0     125.0  220.0  0.0      0.0    144.0    0.0      0.4   \n",
       "302  38.0  1.0  3.0     138.0  175.0  0.0      0.0    173.0    0.0      0.0   \n",
       "\n",
       "     slope  ca  thal  outcome  \n",
       "166    1.0 NaN   3.0        0  \n",
       "192    2.0 NaN   7.0        1  \n",
       "287    2.0 NaN   7.0        0  \n",
       "302    1.0 NaN   3.0        0  "
      ]
     },
     "metadata": {},
     "output_type": "display_data"
    },
    {
     "data": {
      "text/html": [
       "<div>\n",
       "<table border=\"1\" class=\"dataframe\">\n",
       "  <thead>\n",
       "    <tr style=\"text-align: right;\">\n",
       "      <th></th>\n",
       "      <th>age</th>\n",
       "      <th>sex</th>\n",
       "      <th>cp</th>\n",
       "      <th>trestbps</th>\n",
       "      <th>chol</th>\n",
       "      <th>fbs</th>\n",
       "      <th>restecg</th>\n",
       "      <th>thalach</th>\n",
       "      <th>exang</th>\n",
       "      <th>oldpeak</th>\n",
       "      <th>slope</th>\n",
       "      <th>ca</th>\n",
       "      <th>thal</th>\n",
       "      <th>outcome</th>\n",
       "    </tr>\n",
       "  </thead>\n",
       "  <tbody>\n",
       "    <tr>\n",
       "      <th>87</th>\n",
       "      <td>53.0</td>\n",
       "      <td>0.0</td>\n",
       "      <td>3.0</td>\n",
       "      <td>128.0</td>\n",
       "      <td>216.0</td>\n",
       "      <td>0.0</td>\n",
       "      <td>2.0</td>\n",
       "      <td>115.0</td>\n",
       "      <td>0.0</td>\n",
       "      <td>0.0</td>\n",
       "      <td>1.0</td>\n",
       "      <td>0.0</td>\n",
       "      <td>NaN</td>\n",
       "      <td>0</td>\n",
       "    </tr>\n",
       "    <tr>\n",
       "      <th>266</th>\n",
       "      <td>52.0</td>\n",
       "      <td>1.0</td>\n",
       "      <td>4.0</td>\n",
       "      <td>128.0</td>\n",
       "      <td>204.0</td>\n",
       "      <td>1.0</td>\n",
       "      <td>0.0</td>\n",
       "      <td>156.0</td>\n",
       "      <td>1.0</td>\n",
       "      <td>1.0</td>\n",
       "      <td>2.0</td>\n",
       "      <td>0.0</td>\n",
       "      <td>NaN</td>\n",
       "      <td>2</td>\n",
       "    </tr>\n",
       "  </tbody>\n",
       "</table>\n",
       "</div>"
      ],
      "text/plain": [
       "      age  sex   cp  trestbps   chol  fbs  restecg  thalach  exang  oldpeak  \\\n",
       "87   53.0  0.0  3.0     128.0  216.0  0.0      2.0    115.0    0.0      0.0   \n",
       "266  52.0  1.0  4.0     128.0  204.0  1.0      0.0    156.0    1.0      1.0   \n",
       "\n",
       "     slope   ca  thal  outcome  \n",
       "87     1.0  0.0   NaN        0  \n",
       "266    2.0  0.0   NaN        2  "
      ]
     },
     "metadata": {},
     "output_type": "display_data"
    }
   ],
   "source": [
    "# It is possible we have some NaN value, lets check that out\n",
    "display(full_data[ full_data['ca'].isnull()].head(10))\n",
    "display(full_data[ full_data['thal'].isnull()].head(10))"
   ]
  },
  {
   "cell_type": "code",
   "execution_count": 6,
   "metadata": {
    "collapsed": false
   },
   "outputs": [
    {
     "data": {
      "text/html": [
       "<div>\n",
       "<table border=\"1\" class=\"dataframe\">\n",
       "  <thead>\n",
       "    <tr style=\"text-align: right;\">\n",
       "      <th></th>\n",
       "      <th>age</th>\n",
       "      <th>sex</th>\n",
       "      <th>cp</th>\n",
       "      <th>trestbps</th>\n",
       "      <th>chol</th>\n",
       "      <th>fbs</th>\n",
       "      <th>restecg</th>\n",
       "    </tr>\n",
       "  </thead>\n",
       "  <tbody>\n",
       "    <tr>\n",
       "      <th>count</th>\n",
       "      <td>303.000000</td>\n",
       "      <td>303.000000</td>\n",
       "      <td>303.000000</td>\n",
       "      <td>303.000000</td>\n",
       "      <td>303.000000</td>\n",
       "      <td>303.000000</td>\n",
       "      <td>303.000000</td>\n",
       "    </tr>\n",
       "    <tr>\n",
       "      <th>mean</th>\n",
       "      <td>54.438944</td>\n",
       "      <td>0.679868</td>\n",
       "      <td>3.158416</td>\n",
       "      <td>131.689769</td>\n",
       "      <td>246.693069</td>\n",
       "      <td>0.148515</td>\n",
       "      <td>0.990099</td>\n",
       "    </tr>\n",
       "    <tr>\n",
       "      <th>std</th>\n",
       "      <td>9.038662</td>\n",
       "      <td>0.467299</td>\n",
       "      <td>0.960126</td>\n",
       "      <td>17.599748</td>\n",
       "      <td>51.776918</td>\n",
       "      <td>0.356198</td>\n",
       "      <td>0.994971</td>\n",
       "    </tr>\n",
       "    <tr>\n",
       "      <th>min</th>\n",
       "      <td>29.000000</td>\n",
       "      <td>0.000000</td>\n",
       "      <td>1.000000</td>\n",
       "      <td>94.000000</td>\n",
       "      <td>126.000000</td>\n",
       "      <td>0.000000</td>\n",
       "      <td>0.000000</td>\n",
       "    </tr>\n",
       "    <tr>\n",
       "      <th>25%</th>\n",
       "      <td>48.000000</td>\n",
       "      <td>0.000000</td>\n",
       "      <td>3.000000</td>\n",
       "      <td>120.000000</td>\n",
       "      <td>211.000000</td>\n",
       "      <td>0.000000</td>\n",
       "      <td>0.000000</td>\n",
       "    </tr>\n",
       "    <tr>\n",
       "      <th>50%</th>\n",
       "      <td>56.000000</td>\n",
       "      <td>1.000000</td>\n",
       "      <td>3.000000</td>\n",
       "      <td>130.000000</td>\n",
       "      <td>241.000000</td>\n",
       "      <td>0.000000</td>\n",
       "      <td>1.000000</td>\n",
       "    </tr>\n",
       "    <tr>\n",
       "      <th>75%</th>\n",
       "      <td>61.000000</td>\n",
       "      <td>1.000000</td>\n",
       "      <td>4.000000</td>\n",
       "      <td>140.000000</td>\n",
       "      <td>275.000000</td>\n",
       "      <td>0.000000</td>\n",
       "      <td>2.000000</td>\n",
       "    </tr>\n",
       "    <tr>\n",
       "      <th>max</th>\n",
       "      <td>77.000000</td>\n",
       "      <td>1.000000</td>\n",
       "      <td>4.000000</td>\n",
       "      <td>200.000000</td>\n",
       "      <td>564.000000</td>\n",
       "      <td>1.000000</td>\n",
       "      <td>2.000000</td>\n",
       "    </tr>\n",
       "  </tbody>\n",
       "</table>\n",
       "</div>"
      ],
      "text/plain": [
       "              age         sex          cp    trestbps        chol         fbs  \\\n",
       "count  303.000000  303.000000  303.000000  303.000000  303.000000  303.000000   \n",
       "mean    54.438944    0.679868    3.158416  131.689769  246.693069    0.148515   \n",
       "std      9.038662    0.467299    0.960126   17.599748   51.776918    0.356198   \n",
       "min     29.000000    0.000000    1.000000   94.000000  126.000000    0.000000   \n",
       "25%     48.000000    0.000000    3.000000  120.000000  211.000000    0.000000   \n",
       "50%     56.000000    1.000000    3.000000  130.000000  241.000000    0.000000   \n",
       "75%     61.000000    1.000000    4.000000  140.000000  275.000000    0.000000   \n",
       "max     77.000000    1.000000    4.000000  200.000000  564.000000    1.000000   \n",
       "\n",
       "          restecg  \n",
       "count  303.000000  \n",
       "mean     0.990099  \n",
       "std      0.994971  \n",
       "min      0.000000  \n",
       "25%      0.000000  \n",
       "50%      1.000000  \n",
       "75%      2.000000  \n",
       "max      2.000000  "
      ]
     },
     "metadata": {},
     "output_type": "display_data"
    },
    {
     "data": {
      "text/html": [
       "<div>\n",
       "<table border=\"1\" class=\"dataframe\">\n",
       "  <thead>\n",
       "    <tr style=\"text-align: right;\">\n",
       "      <th></th>\n",
       "      <th>thalach</th>\n",
       "      <th>exang</th>\n",
       "      <th>oldpeak</th>\n",
       "      <th>slope</th>\n",
       "    </tr>\n",
       "  </thead>\n",
       "  <tbody>\n",
       "    <tr>\n",
       "      <th>count</th>\n",
       "      <td>303.000000</td>\n",
       "      <td>303.000000</td>\n",
       "      <td>303.000000</td>\n",
       "      <td>303.000000</td>\n",
       "    </tr>\n",
       "    <tr>\n",
       "      <th>mean</th>\n",
       "      <td>149.607261</td>\n",
       "      <td>0.326733</td>\n",
       "      <td>1.039604</td>\n",
       "      <td>1.600660</td>\n",
       "    </tr>\n",
       "    <tr>\n",
       "      <th>std</th>\n",
       "      <td>22.875003</td>\n",
       "      <td>0.469794</td>\n",
       "      <td>1.161075</td>\n",
       "      <td>0.616226</td>\n",
       "    </tr>\n",
       "    <tr>\n",
       "      <th>min</th>\n",
       "      <td>71.000000</td>\n",
       "      <td>0.000000</td>\n",
       "      <td>0.000000</td>\n",
       "      <td>1.000000</td>\n",
       "    </tr>\n",
       "    <tr>\n",
       "      <th>25%</th>\n",
       "      <td>133.500000</td>\n",
       "      <td>0.000000</td>\n",
       "      <td>0.000000</td>\n",
       "      <td>1.000000</td>\n",
       "    </tr>\n",
       "    <tr>\n",
       "      <th>50%</th>\n",
       "      <td>153.000000</td>\n",
       "      <td>0.000000</td>\n",
       "      <td>0.800000</td>\n",
       "      <td>2.000000</td>\n",
       "    </tr>\n",
       "    <tr>\n",
       "      <th>75%</th>\n",
       "      <td>166.000000</td>\n",
       "      <td>1.000000</td>\n",
       "      <td>1.600000</td>\n",
       "      <td>2.000000</td>\n",
       "    </tr>\n",
       "    <tr>\n",
       "      <th>max</th>\n",
       "      <td>202.000000</td>\n",
       "      <td>1.000000</td>\n",
       "      <td>6.200000</td>\n",
       "      <td>3.000000</td>\n",
       "    </tr>\n",
       "  </tbody>\n",
       "</table>\n",
       "</div>"
      ],
      "text/plain": [
       "          thalach       exang     oldpeak       slope\n",
       "count  303.000000  303.000000  303.000000  303.000000\n",
       "mean   149.607261    0.326733    1.039604    1.600660\n",
       "std     22.875003    0.469794    1.161075    0.616226\n",
       "min     71.000000    0.000000    0.000000    1.000000\n",
       "25%    133.500000    0.000000    0.000000    1.000000\n",
       "50%    153.000000    0.000000    0.800000    2.000000\n",
       "75%    166.000000    1.000000    1.600000    2.000000\n",
       "max    202.000000    1.000000    6.200000    3.000000"
      ]
     },
     "metadata": {},
     "output_type": "display_data"
    }
   ],
   "source": [
    "#We need to remove all the NaN, We can remove the rows completely or Fill in some value to the cells\n",
    "full_data['ca'] = full_data['ca'].fillna(value = full_data['ca'].dropna().median())\n",
    "full_data['thal']=full_data['thal'].fillna(value = full_data['thal'].dropna().median())\n",
    "display(full_data[['age','sex','cp','trestbps','chol','fbs','restecg']].describe())\n",
    "display(full_data[['thalach','exang','oldpeak','slope','ca','thal']].describe())"
   ]
  },
  {
   "cell_type": "markdown",
   "metadata": {},
   "source": [
    "# Data Visualization"
   ]
  },
  {
   "cell_type": "code",
   "execution_count": 15,
   "metadata": {
    "collapsed": true
   },
   "outputs": [],
   "source": [
    "data_copy = full_data.copy()\n",
    "data_copy['outcome'] = np.where(data_copy['outcome'] >= 1, 1,0)"
   ]
  },
  {
   "cell_type": "code",
   "execution_count": 24,
   "metadata": {
    "collapsed": false
   },
   "outputs": [
    {
     "data": {
      "image/png": "[encoded data removed]",
      "text/plain": [
       "<matplotlib.figure.Figure at 0x2c9956900f0>"
      ]
     },
     "metadata": {},
     "output_type": "display_data"
    }
   ],
   "source": [
    "data_copy.groupby('outcome').sex.hist(alpha=0.7);"
   ]
  },
  {
   "cell_type": "code",
   "execution_count": 8,
   "metadata": {
    "collapsed": false
   },
   "outputs": [],
   "source": [
    "data_copy['sex'] = data_copy['sex'].map( {1: 'Male', 0: 'Female'} )"
   ]
  },
  {
   "cell_type": "code",
   "execution_count": 9,
   "metadata": {
    "collapsed": false
   },
   "outputs": [
    {
     "data": {
      "text/plain": [
       "outcome  sex   \n",
       "0        Male       92\n",
       "         Female     72\n",
       "1        Male      114\n",
       "         Female     25\n",
       "Name: sex, dtype: int64"
      ]
     },
     "execution_count": 9,
     "metadata": {},
     "output_type": "execute_result"
    }
   ],
   "source": [
    "data_copy.groupby('outcome')['sex'].value_counts()"
   ]
  },
  {
   "cell_type": "code",
   "execution_count": 26,
   "metadata": {
    "collapsed": false
   },
   "outputs": [
    {
     "data": {
      "image/png": "[encoded data removed]",
      "text/plain": [
       "<matplotlib.figure.Figure at 0x2c995a36128>"
      ]
     },
     "metadata": {},
     "output_type": "display_data"
    }
   ],
   "source": [
    "data_copy.groupby('outcome').age.hist(alpha=0.6);\n",
    "data_copy.groupby('outcome').trestbps.hist(alpha=0.6);"
   ]
  },
  {
   "cell_type": "code",
   "execution_count": 27,
   "metadata": {
    "collapsed": false
   },
   "outputs": [
    {
     "data": {
      "image/png": "[encoded data removed]",
      "text/plain": [
       "<matplotlib.figure.Figure at 0x2c9951c3eb8>"
      ]
     },
     "metadata": {},
     "output_type": "display_data"
    }
   ],
   "source": [
    "data_copy.groupby('outcome').slope.hist(alpha=0.6);\n",
    "data_copy.groupby('outcome').cp.hist(alpha=0.6);"
   ]
  },
  {
   "cell_type": "code",
   "execution_count": 28,
   "metadata": {
    "collapsed": false
   },
   "outputs": [
    {
     "data": {
      "image/png": "[encoded data removed]",
      "text/plain": [
       "<matplotlib.figure.Figure at 0x2c995ad3b00>"
      ]
     },
     "metadata": {},
     "output_type": "display_data"
    }
   ],
   "source": [
    "data_copy.groupby('outcome').exang.hist(alpha=0.6);"
   ]
  },
  {
   "cell_type": "code",
   "execution_count": 29,
   "metadata": {
    "collapsed": false
   },
   "outputs": [
    {
     "data": {
      "image/png": "[encoded data removed]",
      "text/plain": [
       "<matplotlib.figure.Figure at 0x2c995c31208>"
      ]
     },
     "metadata": {},
     "output_type": "display_data"
    }
   ],
   "source": [
    "data_copy.groupby('outcome').fbs.hist(alpha=0.6);"
   ]
  },
  {
   "cell_type": "code",
   "execution_count": 19,
   "metadata": {
    "collapsed": false
   },
   "outputs": [
    {
     "data": {
      "image/png": "[encoded data removed]",
      "text/plain": [
       "<matplotlib.figure.Figure at 0x2c995a1d3c8>"
      ]
     },
     "metadata": {},
     "output_type": "display_data"
    }
   ],
   "source": [
    "data_copy.groupby('outcome').oldpeak.hist(alpha=0.8);"
   ]
  },
  {
   "cell_type": "code",
   "execution_count": 23,
   "metadata": {
    "collapsed": false
   },
   "outputs": [
    {
     "data": {
      "image/png": "[encoded data removed]",
      "text/plain": [
       "<matplotlib.figure.Figure at 0x2c995664160>"
      ]
     },
     "metadata": {},
     "output_type": "display_data"
    }
   ],
   "source": [
    "data_copy.groupby('outcome').thalach.hist(alpha=0.7);"
   ]
  },
  {
   "cell_type": "code",
   "execution_count": 30,
   "metadata": {
    "collapsed": false
   },
   "outputs": [
    {
     "data": {
      "image/png": "[encoded data removed]",
      "text/plain": [
       "<matplotlib.figure.Figure at 0x2c996c50da0>"
      ]
     },
     "metadata": {},
     "output_type": "display_data"
    }
   ],
   "source": [
    "data_copy.groupby('outcome').restecg.hist(alpha=0.7);"
   ]
  },
  {
   "cell_type": "code",
   "execution_count": 31,
   "metadata": {
    "collapsed": false
   },
   "outputs": [
    {
     "data": {
      "image/png": "[encoded data removed]",
      "text/plain": [
       "<matplotlib.figure.Figure at 0x2c995bdfef0>"
      ]
     },
     "metadata": {},
     "output_type": "display_data"
    }
   ],
   "source": [
    "data_copy.groupby('outcome').chol.hist(alpha=0.7);"
   ]
  },
  {
   "cell_type": "code",
   "execution_count": 32,
   "metadata": {
    "collapsed": true
   },
   "outputs": [],
   "source": [
    "# Store the 'outcome' feature in a new variable and remove it from the dataset\n",
    "outcomes = full_data['outcome']\n",
    "# Drop predicted value from data\n",
    "data = full_data.drop('outcome', axis = 1)"
   ]
  },
  {
   "cell_type": "code",
   "execution_count": 34,
   "metadata": {
    "collapsed": false
   },
   "outputs": [
    {
     "name": "stdout",
     "output_type": "stream",
     "text": [
      "Training set has 227 samples.\n",
      "Testing set has 76 samples.\n"
     ]
    }
   ],
   "source": [
    "# TODO: Shuffle and split the dataset into the number of training and testing points above\n",
    "X_train, X_test, y_train, y_test = train_test_split(data, outcomes,  test_size=0.25,stratify=outcomes, random_state=42)\n",
    "\n",
    "# Show the results of the split\n",
    "print (\"Training set has {} samples.\".format(X_train.shape[0]))\n",
    "print (\"Testing set has {} samples.\".format(X_test.shape[0]))"
   ]
  },
  {
   "cell_type": "markdown",
   "metadata": {},
   "source": [
    "# Model Selection\n",
    "Train different Classifiers and Measure there performance"
   ]
  },
  {
   "cell_type": "code",
   "execution_count": 35,
   "metadata": {
    "collapsed": false
   },
   "outputs": [],
   "source": [
    "def train_classifier(clf, X_train, y_train):\n",
    "    ''' Fits a classifier to the training data. '''\n",
    "    \n",
    "    # Start the clock, train the classifier, then stop the clock\n",
    "    start = time()\n",
    "    clf.fit(X_train, y_train)\n",
    "    end = time()\n",
    "    \n",
    "    # Print the results\n",
    "    print (\"Trained model in {:.4f} seconds\".format(end - start))\n",
    "\n",
    "    \n",
    "def predict_labels(clf, features, target,multi=True):\n",
    "    ''' Makes predictions using a fit classifier based on F1 score. '''\n",
    "    \n",
    "    # Start the clock, make predictions, then stop the clock\n",
    "    start = time()\n",
    "    y_pred = clf.predict(features)\n",
    "    end = time()\n",
    "    \n",
    "    # Print and return results\n",
    "    print (\"Made predictions in {:.4f} seconds.\".format(end - start))\n",
    "    return f1_score(target.values, y_pred, average='micro') if multi else f1_score(target.values, y_pred)\n",
    "\n",
    "\n",
    "def train_predict(clf, X_train, y_train, X_test, y_test, multi=True):\n",
    "    ''' Train and predict using a classifer based on F1 score. '''\n",
    "    \n",
    "    # Indicate the classifier and the training set size\n",
    "    print (\"Training a {} using a training set size of {}. . .\".format(clf.__class__.__name__, len(X_train)))\n",
    "    \n",
    "    # Train the classifier\n",
    "    train_classifier(clf, X_train, y_train)\n",
    "    \n",
    "    # Print the results of prediction for both training and testing\n",
    "    print (\"F1 score for training set: {:.4f}.\".format(predict_labels(clf, X_train, y_train,multi=multi)))\n",
    "    print (\"F1 score for test set: {:.4f}.\".format(predict_labels(clf, X_test, y_test,multi=multi)))"
   ]
  },
  {
   "cell_type": "code",
   "execution_count": 36,
   "metadata": {
    "collapsed": false
   },
   "outputs": [],
   "source": [
    "from sklearn.ensemble import ExtraTreesClassifier\n",
    "from sklearn.ensemble import BaggingClassifier\n",
    "from sklearn.ensemble import VotingClassifier\n",
    "from sklearn.linear_model import LogisticRegression,SGDClassifier\n",
    "from sklearn.neural_network import MLPClassifier\n",
    "from sklearn.neighbors import KNeighborsClassifier\n",
    "from sklearn.svm import SVC\n",
    "from sklearn.gaussian_process import GaussianProcessClassifier\n",
    "from sklearn.gaussian_process.kernels import RBF\n",
    "from sklearn.tree import DecisionTreeClassifier\n",
    "from sklearn.ensemble import RandomForestClassifier, AdaBoostClassifier\n",
    "from sklearn.naive_bayes import GaussianNB\n",
    "from sklearn.discriminant_analysis import QuadraticDiscriminantAnalysis\n",
    "\n",
    "#Set up the list of the classifiers to use\n",
    "rf = RandomForestClassifier(max_depth=5, n_estimators=10, max_features=1,random_state=42)\n",
    "lr = LogisticRegression(random_state=42)\n",
    "gnb = GaussianNB()\n",
    "ada = AdaBoostClassifier(random_state=42)\n",
    "etc = ExtraTreesClassifier(n_estimators=30,random_state=42)\n",
    "eclf = VotingClassifier(estimators=[('GNB', gnb), ('ADA', ada),('ETC', etc)], voting='soft',weights = [2,1,2])\n",
    "knn = KNeighborsClassifier(3)\n",
    "svc1 = SVC(kernel=\"linear\", C=0.025,random_state=42)\n",
    "svc2 = SVC(gamma=2, C=1,random_state=42)\n",
    "gpc = GaussianProcessClassifier(1.0 * RBF(1.0), warm_start=True)\n",
    "decisionTree = DecisionTreeClassifier(max_depth=5,random_state=42)\n",
    "bagging = BaggingClassifier(random_state=42)\n",
    "sgd = SGDClassifier(loss=\"hinge\", penalty=\"l2\",random_state=42)\n",
    "qda = QuadraticDiscriminantAnalysis()\n",
    "classifiers = [ knn, svc1, svc2, gpc, decisionTree, rf, ada, gnb, qda, lr, etc, bagging, sgd, eclf]\n"
   ]
  },
  {
   "cell_type": "code",
   "execution_count": 37,
   "metadata": {
    "collapsed": false
   },
   "outputs": [
    {
     "name": "stdout",
     "output_type": "stream",
     "text": [
      "Training a KNeighborsClassifier using a training set size of 227. . .\n",
      "Trained model in 0.0020 seconds\n",
      "Made predictions in 0.0030 seconds.\n",
      "F1 score for training set: 0.6784.\n",
      "Made predictions in 0.0010 seconds.\n",
      "F1 score for test set: 0.5000.\n",
      "Training a SVC using a training set size of 227. . .\n",
      "Trained model in 0.0650 seconds\n",
      "Made predictions in 0.0010 seconds.\n",
      "F1 score for training set: 0.6520.\n",
      "Made predictions in 0.0010 seconds.\n",
      "F1 score for test set: 0.5789.\n",
      "Training a SVC using a training set size of 227. . .\n",
      "Trained model in 0.0130 seconds\n",
      "Made predictions in 0.0060 seconds.\n",
      "F1 score for training set: 1.0000.\n",
      "Made predictions in 0.0010 seconds.\n",
      "F1 score for test set: 0.5395.\n",
      "Training a GaussianProcessClassifier using a training set size of 227. . .\n",
      "Trained model in 2.3709 seconds\n",
      "Made predictions in 0.0640 seconds.\n",
      "F1 score for training set: 1.0000.\n",
      "Made predictions in 0.0310 seconds.\n",
      "F1 score for test set: 0.0658.\n",
      "Training a DecisionTreeClassifier using a training set size of 227. . .\n",
      "Trained model in 0.0020 seconds\n",
      "Made predictions in 0.0000 seconds.\n",
      "F1 score for training set: 0.7621.\n",
      "Made predictions in 0.0000 seconds.\n",
      "F1 score for test set: 0.4868.\n",
      "Training a RandomForestClassifier using a training set size of 227. . .\n",
      "Trained model in 0.0310 seconds\n",
      "Made predictions in 0.0020 seconds.\n",
      "F1 score for training set: 0.7533.\n",
      "Made predictions in 0.0030 seconds.\n",
      "F1 score for test set: 0.5395.\n",
      "Training a AdaBoostClassifier using a training set size of 227. . .\n",
      "Trained model in 0.1591 seconds\n",
      "Made predictions in 0.0150 seconds.\n",
      "F1 score for training set: 0.6300.\n",
      "Made predictions in 0.0110 seconds.\n",
      "F1 score for test set: 0.4868.\n",
      "Training a GaussianNB using a training set size of 227. . .\n",
      "Trained model in 0.0020 seconds\n",
      "Made predictions in 0.0010 seconds.\n",
      "F1 score for training set: 0.6476.\n",
      "Made predictions in 0.0010 seconds.\n",
      "F1 score for test set: 0.5000.\n",
      "Training a QuadraticDiscriminantAnalysis using a training set size of 227. . .\n"
     ]
    },
    {
     "name": "stderr",
     "output_type": "stream",
     "text": [
      "C:\\Users\\Engr Kola\\Anaconda2\\envs\\venv\\lib\\site-packages\\sklearn\\discriminant_analysis.py:695: UserWarning: Variables are collinear\n",
      "  warnings.warn(\"Variables are collinear\")\n"
     ]
    },
    {
     "name": "stdout",
     "output_type": "stream",
     "text": [
      "Trained model in 0.5213 seconds\n",
      "Made predictions in 0.0010 seconds.\n",
      "F1 score for training set: 0.8590.\n",
      "Made predictions in 0.0010 seconds.\n",
      "F1 score for test set: 0.5395.\n",
      "Training a LogisticRegression using a training set size of 227. . .\n",
      "Trained model in 0.0130 seconds\n",
      "Made predictions in 0.0000 seconds.\n",
      "F1 score for training set: 0.6520.\n",
      "Made predictions in 0.0000 seconds.\n",
      "F1 score for test set: 0.6184.\n",
      "Training a ExtraTreesClassifier using a training set size of 227. . .\n",
      "Trained model in 0.0821 seconds\n",
      "Made predictions in 0.0080 seconds.\n",
      "F1 score for training set: 1.0000.\n",
      "Made predictions in 0.0060 seconds.\n",
      "F1 score for test set: 0.5395.\n",
      "Training a BaggingClassifier using a training set size of 227. . .\n",
      "Trained model in 0.0300 seconds\n",
      "Made predictions in 0.0020 seconds.\n",
      "F1 score for training set: 0.9824.\n",
      "Made predictions in 0.0020 seconds.\n",
      "F1 score for test set: 0.5263.\n",
      "Training a SGDClassifier using a training set size of 227. . .\n",
      "Trained model in 0.0030 seconds\n",
      "Made predictions in 0.0000 seconds.\n",
      "F1 score for training set: 0.5463.\n",
      "Made predictions in 0.0000 seconds.\n",
      "F1 score for test set: 0.5395.\n",
      "Training a VotingClassifier using a training set size of 227. . .\n",
      "Trained model in 0.2061 seconds\n",
      "Made predictions in 0.0170 seconds.\n",
      "F1 score for training set: 0.9824.\n",
      "Made predictions in 0.0140 seconds.\n",
      "F1 score for test set: 0.5000.\n"
     ]
    }
   ],
   "source": [
    "\n",
    "for clf in classifiers:\n",
    "    train_predict(clf,X_train,y_train, X_test, y_test)\n"
   ]
  },
  {
   "cell_type": "markdown",
   "metadata": {},
   "source": [
    "# Data Reshape\n",
    "Let's try binary classification for better performarce\n",
    "The state space is high for us to get accurate results using multi-classification approach\n"
   ]
  },
  {
   "cell_type": "code",
   "execution_count": 38,
   "metadata": {
    "collapsed": false
   },
   "outputs": [],
   "source": [
    "full_data['outcome'] = np.where(outcomes >= 1, 1,0)\n",
    "outcomes = full_data['outcome']\n",
    "data = full_data.drop('outcome', axis = 1)"
   ]
  },
  {
   "cell_type": "code",
   "execution_count": 39,
   "metadata": {
    "collapsed": true
   },
   "outputs": [],
   "source": [
    "# TODO: Shuffle and split the dataset into the number of training and testing points above\n",
    "X_train, X_test, y_train, y_test = train_test_split(data, outcomes,  test_size=0.25,stratify=outcomes, random_state=42)"
   ]
  },
  {
   "cell_type": "code",
   "execution_count": 40,
   "metadata": {
    "collapsed": false
   },
   "outputs": [
    {
     "name": "stdout",
     "output_type": "stream",
     "text": [
      "Training a KNeighborsClassifier using a training set size of 227. . .\n",
      "Trained model in 0.0020 seconds\n",
      "Made predictions in 0.0030 seconds.\n",
      "F1 score for training set: 0.7308.\n",
      "Made predictions in 0.0020 seconds.\n",
      "F1 score for test set: 0.6250.\n",
      "Training a SVC using a training set size of 227. . .\n",
      "Trained model in 0.0180 seconds\n",
      "Made predictions in 0.0010 seconds.\n",
      "F1 score for training set: 0.8100.\n",
      "Made predictions in 0.0000 seconds.\n",
      "F1 score for test set: 0.8116.\n",
      "Training a SVC using a training set size of 227. . .\n",
      "Trained model in 0.0090 seconds\n",
      "Made predictions in 0.0050 seconds.\n",
      "F1 score for training set: 1.0000.\n",
      "Made predictions in 0.0020 seconds.\n",
      "F1 score for test set: 0.0000.\n",
      "Training a GaussianProcessClassifier using a training set size of 227. . .\n"
     ]
    },
    {
     "name": "stderr",
     "output_type": "stream",
     "text": [
      "C:\\Users\\Engr Kola\\Anaconda2\\envs\\venv\\lib\\site-packages\\sklearn\\metrics\\classification.py:1113: UndefinedMetricWarning: F-score is ill-defined and being set to 0.0 due to no predicted samples.\n",
      "  'precision', 'predicted', average, warn_for)\n"
     ]
    },
    {
     "name": "stdout",
     "output_type": "stream",
     "text": [
      "Trained model in 0.2552 seconds\n",
      "Made predictions in 0.0070 seconds.\n",
      "F1 score for training set: 1.0000.\n",
      "Made predictions in 0.0030 seconds.\n",
      "F1 score for test set: 0.5937.\n",
      "Training a DecisionTreeClassifier using a training set size of 227. . .\n",
      "Trained model in 0.0010 seconds\n",
      "Made predictions in 0.0000 seconds.\n",
      "F1 score for training set: 0.9246.\n",
      "Made predictions in 0.0010 seconds.\n",
      "F1 score for test set: 0.6944.\n",
      "Training a RandomForestClassifier using a training set size of 227. . .\n",
      "Trained model in 0.0300 seconds\n",
      "Made predictions in 0.0030 seconds.\n",
      "F1 score for training set: 0.8792.\n",
      "Made predictions in 0.0020 seconds.\n",
      "F1 score for test set: 0.8219.\n",
      "Training a AdaBoostClassifier using a training set size of 227. . .\n",
      "Trained model in 0.1481 seconds\n",
      "Made predictions in 0.0160 seconds.\n",
      "F1 score for training set: 0.9135.\n",
      "Made predictions in 0.0140 seconds.\n",
      "F1 score for test set: 0.8286.\n",
      "Training a GaussianNB using a training set size of 227. . .\n",
      "Trained model in 0.0020 seconds\n",
      "Made predictions in 0.0010 seconds.\n",
      "F1 score for training set: 0.8122.\n",
      "Made predictions in 0.0010 seconds.\n",
      "F1 score for test set: 0.8947.\n",
      "Training a QuadraticDiscriminantAnalysis using a training set size of 227. . .\n",
      "Trained model in 0.0020 seconds\n",
      "Made predictions in 0.0010 seconds.\n",
      "F1 score for training set: 0.8557.\n",
      "Made predictions in 0.0000 seconds.\n",
      "F1 score for test set: 0.8421.\n",
      "Training a LogisticRegression using a training set size of 227. . .\n",
      "Trained model in 0.0020 seconds\n",
      "Made predictions in 0.0000 seconds.\n",
      "F1 score for training set: 0.8300.\n",
      "Made predictions in 0.0000 seconds.\n",
      "F1 score for test set: 0.8696.\n",
      "Training a ExtraTreesClassifier using a training set size of 227. . .\n",
      "Trained model in 0.0670 seconds\n",
      "Made predictions in 0.0050 seconds.\n",
      "F1 score for training set: 1.0000.\n",
      "Made predictions in 0.0070 seconds.\n",
      "F1 score for test set: 0.8219.\n",
      "Training a BaggingClassifier using a training set size of 227. . .\n",
      "Trained model in 0.0290 seconds\n",
      "Made predictions in 0.0020 seconds.\n",
      "F1 score for training set: 0.9804.\n",
      "Made predictions in 0.0020 seconds.\n",
      "F1 score for test set: 0.8056.\n",
      "Training a SGDClassifier using a training set size of 227. . .\n",
      "Trained model in 0.0000 seconds\n",
      "Made predictions in 0.0010 seconds.\n",
      "F1 score for training set: 0.2185.\n",
      "Made predictions in 0.0010 seconds.\n",
      "F1 score for test set: 0.2381.\n",
      "Training a VotingClassifier using a training set size of 227. . .\n",
      "Trained model in 0.2392 seconds\n",
      "Made predictions in 0.0150 seconds.\n",
      "F1 score for training set: 0.9761.\n",
      "Made predictions in 0.0120 seconds.\n",
      "F1 score for test set: 0.9189.\n"
     ]
    }
   ],
   "source": [
    "for clf in classifiers:\n",
    "    train_predict(clf,X_train,y_train, X_test, y_test, multi=False)"
   ]
  },
  {
   "cell_type": "markdown",
   "metadata": {},
   "source": [
    "Now, we have a very good result 91.89 ~ 92% accuracy on an unseen data.\n",
    "Also 0.9761 ~ 98% on the training data"
   ]
  },
  {
   "cell_type": "markdown",
   "metadata": {},
   "source": [
    "# Cross Validation\n",
    "Let us try cross validation to see how our Models perform"
   ]
  },
  {
   "cell_type": "code",
   "execution_count": 42,
   "metadata": {
    "collapsed": false
   },
   "outputs": [
    {
     "name": "stdout",
     "output_type": "stream",
     "text": [
      "mean score of KNeighborsClassifier is 0.6240266963292547\n",
      "mean score of SVC is 0.8279273266592512\n",
      "mean score of SVC is 0.5411939191694475\n",
      "mean score of GaussianProcessClassifier is 0.57431219873934\n",
      "mean score of DecisionTreeClassifier is 0.7713459399332592\n",
      "mean score of RandomForestClassifier is 0.8079124953652206\n",
      "mean score of AdaBoostClassifier is 0.797360029662588\n",
      "mean score of GaussianNB is 0.8411531331108639\n",
      "mean score of QuadraticDiscriminantAnalysis is 0.8280348535409715\n",
      "mean score of LogisticRegression is 0.8277048572487951\n",
      "mean score of ExtraTreesClassifier is 0.8273748609566185\n",
      "mean score of BaggingClassifier is 0.8008083055246569\n",
      "mean score of SGDClassifier is 0.5675454208379681\n",
      "mean score of VotingClassifier is 0.8542714126807563\n"
     ]
    }
   ],
   "source": [
    "from sklearn.model_selection import cross_val_score\n",
    "from sklearn.model_selection import StratifiedKFold\n",
    "cv = StratifiedKFold(n_splits=10, random_state=42)\n",
    "\n",
    "for clf in classifiers:\n",
    "    scores = cross_val_score(clf, data, outcomes, cv=cv)\n",
    "    a = np.mean(scores)\n",
    "    print ('mean score of {} is {}'.format(clf.__class__.__name__,a))"
   ]
  },
  {
   "cell_type": "code",
   "execution_count": 45,
   "metadata": {
    "collapsed": false
   },
   "outputs": [
    {
     "name": "stdout",
     "output_type": "stream",
     "text": [
      "Training a VotingClassifier using a training set size of 227. . .\n",
      "Trained model in 0.2942 seconds\n",
      "Made predictions in 0.0180 seconds.\n",
      "F1 score for training set: 0.9761.\n",
      "Made predictions in 0.0130 seconds.\n",
      "F1 score for test set: 0.9189.\n"
     ]
    },
    {
     "data": {
      "text/plain": [
       "['VotingClassifier.pkl']"
      ]
     },
     "execution_count": 45,
     "metadata": {},
     "output_type": "execute_result"
    }
   ],
   "source": [
    "train_predict(clf,X_train,y_train, X_test, y_test, multi=False)\n",
    "from sklearn.externals import joblib\n",
    "joblib.dump(eclf, 'VotingClassifier.pkl')"
   ]
  },
  {
   "cell_type": "markdown",
   "metadata": {},
   "source": [
    "# Conclusion\n",
    "14 predictor features from the UCI heart disease dataset are used to predict the diagnosis of heart disease (angiographic disease status). The performances of 14 different machine learning algorithms are compared .\n",
    "\n",
    "25% of the data is hold out as a testing data set that is not seen during the training stage of the data. During the training of boosted trees and support vector machines, 10-fold cross-validation is used to maximize the ROC (parameter tuning) and select the final models.\n",
    "\n",
    "After the comparison, the accuracy of the model predictions shows that VotingClassifier performs best (accuracy of 0.92 on testing data and 0.98 on training data), it is our choice of algorithm for the Diagnotic interface.\n",
    "\n",
    "The short analysis shows the predictive capability of machine learning algorithms for heart diseases. Possible improvements can be obtained with improved data pre-processing (outliers, variances), choice of models, parameter selection, model tuning and so on."
   ]
  }
 ],
 "metadata": {
  "anaconda-cloud": {},
  "kernelspec": {
   "display_name": "Python [conda env:venv]",
   "language": "python",
   "name": "conda-env-venv-py"
  },
  "language_info": {
   "codemirror_mode": {
    "name": "ipython",
    "version": 3
   },
   "file_extension": ".py",
   "mimetype": "text/x-python",
   "name": "python",
   "nbconvert_exporter": "python",
   "pygments_lexer": "ipython3",
   "version": "3.5.2"
  }
 },
 "nbformat": 4,
 "nbformat_minor": 1
}
